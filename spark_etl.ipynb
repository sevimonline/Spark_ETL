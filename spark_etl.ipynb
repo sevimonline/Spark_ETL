{
 "cells": [
  {
   "cell_type": "code",
   "execution_count": 0,
   "metadata": {
    "application/vnd.databricks.v1+cell": {
     "cellMetadata": {
      "byteLimit": 2048000,
      "rowLimit": 10000
     },
     "inputWidgets": {},
     "nuid": "d921e558-9141-4402-a7ef-d35482651ace",
     "showTitle": false,
     "title": ""
    }
   },
   "outputs": [
    {
     "output_type": "stream",
     "name": "stdout",
     "output_type": "stream",
     "text": [
      "+--------+--------------------+--------+-----------+-----------+--------------------+-------+\n|cinsiyet|            comments|kategori|      marka|page_number|        product_name|  stars|\n+--------+--------------------+--------+-----------+-----------+--------------------+-------+\n|   erkek|['Gayet güzel uma...|   sapka|calvinklein|          1|   Calvin KleinŞapka|['4.3']|\n|   erkek|                  []|   sapka|calvinklein|          2|Calvin KleinSiyah...|['5.0']|\n|   erkek|['Güzel ürün', 'Ü...|   sapka|calvinklein|          3|Calvin KleinMavi ...|['4.5']|\n|   erkek|                  []|   sapka|calvinklein|          4|   Calvin KleinŞapka|     []|\n|   erkek|['Baba beğenmiş !...|   sapka|calvinklein|          5|   Calvin KleinŞapka|['4.5']|\n|   erkek|                  []|   sapka|calvinklein|          6|Calvin KleinSPORT...|     []|\n|   erkek|                  []|   sapka|calvinklein|          7|Calvin KleinSiyah...|     []|\n|   erkek|['Eşim için aldım...|   sapka|calvinklein|          8|Calvin KleinCK Lo...|['4.7']|\n|   erkek|                  []|   sapka|calvinklein|          9|   Calvin KleinŞapka|     []|\n|   erkek|                  []|   sapka|calvinklein|         10|Calvin KleinLogol...|     []|\n|   erkek|                  []|   sapka|calvinklein|         11|Calvin KleinBeyaz...|     []|\n|   erkek|['Çok beğendim 😊...|   sapka|calvinklein|         12|   Calvin KleinŞapka|['5.0']|\n|   erkek|                  []|   sapka|calvinklein|         13|Calvin KleinSiyah...|     []|\n|   erkek|                  []|   sapka|calvinklein|         14|   Calvin KleinŞapka|     []|\n|   erkek|                  []|   sapka|calvinklein|         15|Calvin KleinCALVI...|     []|\n|   erkek|['yanlış ürün yol...|   sapka|calvinklein|         16|Calvin KleinLogol...|['4.2']|\n|   erkek|['Kumaşı kalın. Y...|   sapka|calvinklein|         17|Calvin KleinErkek...|['4.3']|\n|   erkek|                  []|   sapka|calvinklein|         18|   Calvin KleinŞAPKA|     []|\n|   erkek|                  []|   sapka|calvinklein|         19|Calvin KleinMONO ...|     []|\n|   erkek|                  []|   sapka|calvinklein|         20|   Calvin KleinŞapka|     []|\n+--------+--------------------+--------+-----------+-----------+--------------------+-------+\nonly showing top 20 rows\n\n"
     ]
    }
   ],
   "source": [
    "df = spark.read.format(\"json\").option(\"header\", \"True\").load(\"dbfs:/FileStore/tables/ecommerce_comments.json\")\n",
    "df = df.select('cinsiyet', 'comments', 'kategori', 'marka', 'page_number', 'product_name', 'stars')\n",
    "df.show()\n"
   ]
  },
  {
   "cell_type": "code",
   "execution_count": 0,
   "metadata": {
    "application/vnd.databricks.v1+cell": {
     "cellMetadata": {
      "byteLimit": 2048000,
      "rowLimit": 10000
     },
     "inputWidgets": {},
     "nuid": "28e01fec-c842-4731-8311-582ea8021d4c",
     "showTitle": false,
     "title": ""
    }
   },
   "outputs": [
    {
     "output_type": "stream",
     "name": "stdout",
     "output_type": "stream",
     "text": [
      "+-------------------------------------------------------------------------------------------------------------------------------------------------------------------------------------------------------------------------------------------------------------------------------------------------------------+\n|comments                                                                                                                                                                                                                                                                                                     |\n+-------------------------------------------------------------------------------------------------------------------------------------------------------------------------------------------------------------------------------------------------------------------------------------------------------------+\n|['Gayet güzel umarım orijinaldir', \"In the photo there is a textile clasp, it arrived with a plastic clasp, in the photo the logo is convex but in reality, it is just a sticker on top. But the quality is good, it’s just a different model in the photos, you can't go wrong.\", 'Güzel ama biraz değişik']|\n+-------------------------------------------------------------------------------------------------------------------------------------------------------------------------------------------------------------------------------------------------------------------------------------------------------------+\nonly showing top 1 row\n\n"
     ]
    }
   ],
   "source": [
    "df.select(\"comments\").show(1,truncate=False) #ilk gözlem"
   ]
  },
  {
   "cell_type": "code",
   "execution_count": 0,
   "metadata": {
    "application/vnd.databricks.v1+cell": {
     "cellMetadata": {
      "byteLimit": 2048000,
      "rowLimit": 10000
     },
     "inputWidgets": {},
     "nuid": "0c0317ba-7b2d-42b3-9e98-895b548efa3f",
     "showTitle": false,
     "title": ""
    }
   },
   "outputs": [
    {
     "output_type": "stream",
     "name": "stdout",
     "output_type": "stream",
     "text": [
      "Verideki Toplam satır sayısı: 2739\nVerideki Toplam sütun sayısı: 7\n"
     ]
    }
   ],
   "source": [
    "total_rows = df.count()\n",
    "total_columns = len(df.columns)\n",
    "\n",
    "print(\"Verideki Toplam satır sayısı:\", total_rows)\n",
    "print(\"Verideki Toplam sütun sayısı:\", total_columns)"
   ]
  },
  {
   "cell_type": "code",
   "execution_count": 0,
   "metadata": {
    "application/vnd.databricks.v1+cell": {
     "cellMetadata": {
      "byteLimit": 2048000,
      "rowLimit": 10000
     },
     "inputWidgets": {},
     "nuid": "619a469f-7341-43d6-b18b-d8f728367b1c",
     "showTitle": false,
     "title": ""
    }
   },
   "outputs": [
    {
     "output_type": "stream",
     "name": "stdout",
     "output_type": "stream",
     "text": [
      "cinsiyet: 0 null values\ncomments: 0 null values\nkategori: 0 null values\nmarka: 0 null values\npage_number: 0 null values\nproduct_name: 0 null values\nstars: 0 null values\n"
     ]
    }
   ],
   "source": [
    "from pyspark.sql.functions import col\n",
    "for column in df.columns:\n",
    "    null_count = df.where(col(column).isNull()).count()\n",
    "    print(f\"{column}: {null_count} null values\")\n",
    "\n",
    "# Verideki [] olan gözlemleri kayıp değer kabul ederek işlemleri buna göre devam ettireceğiz.\n"
   ]
  },
  {
   "cell_type": "code",
   "execution_count": 0,
   "metadata": {
    "application/vnd.databricks.v1+cell": {
     "cellMetadata": {
      "byteLimit": 2048000,
      "rowLimit": 10000
     },
     "inputWidgets": {},
     "nuid": "90f36625-2ec1-4f5a-8fbb-21ffb54cc6e7",
     "showTitle": false,
     "title": ""
    }
   },
   "outputs": [
    {
     "output_type": "stream",
     "name": "stdout",
     "output_type": "stream",
     "text": [
      "+--------+--------------------+--------+-----------+-----------+--------------------+-------+\n|cinsiyet|            comments|kategori|      marka|page_number|        product_name|  stars|\n+--------+--------------------+--------+-----------+-----------+--------------------+-------+\n|   erkek|['Gayet güzel uma...|   sapka|calvinklein|          1|   Calvin KleinŞapka|['4.3']|\n|   erkek|['Güzel ürün', 'Ü...|   sapka|calvinklein|          3|Calvin KleinMavi ...|['4.5']|\n|   erkek|['Baba beğenmiş !...|   sapka|calvinklein|          5|   Calvin KleinŞapka|['4.5']|\n|   erkek|['Eşim için aldım...|   sapka|calvinklein|          8|Calvin KleinCK Lo...|['4.7']|\n|   erkek|['Çok beğendim 😊...|   sapka|calvinklein|         12|   Calvin KleinŞapka|['5.0']|\n|   erkek|['yanlış ürün yol...|   sapka|calvinklein|         16|Calvin KleinLogol...|['4.2']|\n|   erkek|['Kumaşı kalın. Y...|   sapka|calvinklein|         17|Calvin KleinErkek...|['4.3']|\n|   erkek|['Gayet güzel uma...|   sapka|calvinklein|         25|   Calvin KleinŞapka|['4.3']|\n|   erkek|['Güzel ürün', 'Ü...|   sapka|calvinklein|         27|Calvin KleinMavi ...|['4.5']|\n|   erkek|['Baba beğenmiş !...|   sapka|calvinklein|         29|   Calvin KleinŞapka|['4.5']|\n|   erkek|['Eşim için aldım...|   sapka|calvinklein|         32|Calvin KleinCK Lo...|['4.7']|\n|   erkek|['Çok beğendim 😊...|   sapka|calvinklein|         36|   Calvin KleinŞapka|['5.0']|\n|   erkek|['yanlış ürün yol...|   sapka|calvinklein|         40|Calvin KleinLogol...|['4.2']|\n|   erkek|['Kumaşı kalın. Y...|   sapka|calvinklein|         41|Calvin KleinErkek...|['4.3']|\n|   erkek|['Gayet güzel uma...|   sapka|calvinklein|         49|   Calvin KleinŞapka|['4.3']|\n|   erkek|['Güzel ürün', 'Ü...|   sapka|calvinklein|         51|Calvin KleinMavi ...|['4.5']|\n|   erkek|['Baba beğenmiş !...|   sapka|calvinklein|         53|   Calvin KleinŞapka|['4.5']|\n|   erkek|['Eşim için aldım...|   sapka|calvinklein|         56|Calvin KleinCK Lo...|['4.7']|\n|   erkek|['Çok beğendim 😊...|   sapka|calvinklein|         60|   Calvin KleinŞapka|['5.0']|\n|   erkek|['yanlış ürün yol...|   sapka|calvinklein|         64|Calvin KleinLogol...|['4.2']|\n+--------+--------------------+--------+-----------+-----------+--------------------+-------+\nonly showing top 20 rows\n\n"
     ]
    }
   ],
   "source": [
    "# \"comments\" değişkeninde \"[]\" (Kayıp gözlem olarak kabul edildi) eşit olmayan gözlemleri filtreleme\n",
    "df = df.filter(df[\"comments\"] != \"[]\")\n",
    "\n",
    "# Filtrelenmiş veriyi gösterme\n",
    "df.show()\n"
   ]
  },
  {
   "cell_type": "code",
   "execution_count": 0,
   "metadata": {
    "application/vnd.databricks.v1+cell": {
     "cellMetadata": {
      "byteLimit": 2048000,
      "rowLimit": 10000
     },
     "inputWidgets": {},
     "nuid": "219f91ce-3b2a-43ed-b9e4-8a04299769e9",
     "showTitle": false,
     "title": ""
    }
   },
   "outputs": [
    {
     "output_type": "stream",
     "name": "stdout",
     "output_type": "stream",
     "text": [
      "+--------+--------------------+--------+-----------+--------------------+-------+\n|cinsiyet|            comments|kategori|      marka|        product_name|  stars|\n+--------+--------------------+--------+-----------+--------------------+-------+\n|   erkek|['Gayet güzel uma...|   sapka|calvinklein|   Calvin KleinŞapka|['4.3']|\n|   erkek|['Güzel ürün', 'Ü...|   sapka|calvinklein|Calvin KleinMavi ...|['4.5']|\n|   erkek|['Baba beğenmiş !...|   sapka|calvinklein|   Calvin KleinŞapka|['4.5']|\n|   erkek|['Eşim için aldım...|   sapka|calvinklein|Calvin KleinCK Lo...|['4.7']|\n|   erkek|['Çok beğendim 😊...|   sapka|calvinklein|   Calvin KleinŞapka|['5.0']|\n|   erkek|['yanlış ürün yol...|   sapka|calvinklein|Calvin KleinLogol...|['4.2']|\n|   erkek|['Kumaşı kalın. Y...|   sapka|calvinklein|Calvin KleinErkek...|['4.3']|\n|   erkek|['Gayet güzel uma...|   sapka|calvinklein|   Calvin KleinŞapka|['4.3']|\n|   erkek|['Güzel ürün', 'Ü...|   sapka|calvinklein|Calvin KleinMavi ...|['4.5']|\n|   erkek|['Baba beğenmiş !...|   sapka|calvinklein|   Calvin KleinŞapka|['4.5']|\n|   erkek|['Eşim için aldım...|   sapka|calvinklein|Calvin KleinCK Lo...|['4.7']|\n|   erkek|['Çok beğendim 😊...|   sapka|calvinklein|   Calvin KleinŞapka|['5.0']|\n|   erkek|['yanlış ürün yol...|   sapka|calvinklein|Calvin KleinLogol...|['4.2']|\n|   erkek|['Kumaşı kalın. Y...|   sapka|calvinklein|Calvin KleinErkek...|['4.3']|\n|   erkek|['Gayet güzel uma...|   sapka|calvinklein|   Calvin KleinŞapka|['4.3']|\n|   erkek|['Güzel ürün', 'Ü...|   sapka|calvinklein|Calvin KleinMavi ...|['4.5']|\n|   erkek|['Baba beğenmiş !...|   sapka|calvinklein|   Calvin KleinŞapka|['4.5']|\n|   erkek|['Eşim için aldım...|   sapka|calvinklein|Calvin KleinCK Lo...|['4.7']|\n|   erkek|['Çok beğendim 😊...|   sapka|calvinklein|   Calvin KleinŞapka|['5.0']|\n|   erkek|['yanlış ürün yol...|   sapka|calvinklein|Calvin KleinLogol...|['4.2']|\n+--------+--------------------+--------+-----------+--------------------+-------+\nonly showing top 20 rows\n\n"
     ]
    }
   ],
   "source": [
    "# \"page_number\" sütununu DataFrame'den çıkarma\n",
    "df = df.drop(\"page_number\")\n",
    "\n",
    "# Güncellenmiş DataFrame'i gösterme\n",
    "df.show()\n"
   ]
  },
  {
   "cell_type": "code",
   "execution_count": 0,
   "metadata": {
    "application/vnd.databricks.v1+cell": {
     "cellMetadata": {
      "byteLimit": 2048000,
      "rowLimit": 10000
     },
     "inputWidgets": {},
     "nuid": "8d5ffbc1-f9cb-4002-a724-3d6024d5271e",
     "showTitle": false,
     "title": ""
    }
   },
   "outputs": [
    {
     "output_type": "stream",
     "name": "stdout",
     "output_type": "stream",
     "text": [
      "+--------+--------------------+--------+-----------+--------------------+-----+\n|cinsiyet|            comments|kategori|      marka|        product_name|stars|\n+--------+--------------------+--------+-----------+--------------------+-----+\n|   erkek|['Gayet güzel uma...|   sapka|calvinklein|   Calvin KleinŞapka|'4.3'|\n|   erkek|['Güzel ürün', 'Ü...|   sapka|calvinklein|Calvin KleinMavi ...|'4.5'|\n|   erkek|['Baba beğenmiş !...|   sapka|calvinklein|   Calvin KleinŞapka|'4.5'|\n|   erkek|['Eşim için aldım...|   sapka|calvinklein|Calvin KleinCK Lo...|'4.7'|\n|   erkek|['Çok beğendim 😊...|   sapka|calvinklein|   Calvin KleinŞapka|'5.0'|\n|   erkek|['yanlış ürün yol...|   sapka|calvinklein|Calvin KleinLogol...|'4.2'|\n|   erkek|['Kumaşı kalın. Y...|   sapka|calvinklein|Calvin KleinErkek...|'4.3'|\n|   erkek|['Gayet güzel uma...|   sapka|calvinklein|   Calvin KleinŞapka|'4.3'|\n|   erkek|['Güzel ürün', 'Ü...|   sapka|calvinklein|Calvin KleinMavi ...|'4.5'|\n|   erkek|['Baba beğenmiş !...|   sapka|calvinklein|   Calvin KleinŞapka|'4.5'|\n|   erkek|['Eşim için aldım...|   sapka|calvinklein|Calvin KleinCK Lo...|'4.7'|\n|   erkek|['Çok beğendim 😊...|   sapka|calvinklein|   Calvin KleinŞapka|'5.0'|\n|   erkek|['yanlış ürün yol...|   sapka|calvinklein|Calvin KleinLogol...|'4.2'|\n|   erkek|['Kumaşı kalın. Y...|   sapka|calvinklein|Calvin KleinErkek...|'4.3'|\n|   erkek|['Gayet güzel uma...|   sapka|calvinklein|   Calvin KleinŞapka|'4.3'|\n|   erkek|['Güzel ürün', 'Ü...|   sapka|calvinklein|Calvin KleinMavi ...|'4.5'|\n|   erkek|['Baba beğenmiş !...|   sapka|calvinklein|   Calvin KleinŞapka|'4.5'|\n|   erkek|['Eşim için aldım...|   sapka|calvinklein|Calvin KleinCK Lo...|'4.7'|\n|   erkek|['Çok beğendim 😊...|   sapka|calvinklein|   Calvin KleinŞapka|'5.0'|\n|   erkek|['yanlış ürün yol...|   sapka|calvinklein|Calvin KleinLogol...|'4.2'|\n+--------+--------------------+--------+-----------+--------------------+-----+\nonly showing top 20 rows\n\n"
     ]
    }
   ],
   "source": [
    "from pyspark.sql.functions import regexp_replace\n",
    "\n",
    "# \"stars\" sütunundaki string değerlerin içerisindeki \"[\" ve \"]\" karakterlerini kaldırma\n",
    "df = df.withColumn(\"stars\", regexp_replace(\"stars\", \"\\[|\\]\", \"\"))\n",
    "\n",
    "# Güncellenmiş DataFrame'i gösterme\n",
    "df.show()\n"
   ]
  },
  {
   "cell_type": "code",
   "execution_count": 0,
   "metadata": {
    "application/vnd.databricks.v1+cell": {
     "cellMetadata": {
      "byteLimit": 2048000,
      "rowLimit": 10000
     },
     "inputWidgets": {},
     "nuid": "1aadb646-06db-406f-a2e4-19d98d91d4e5",
     "showTitle": false,
     "title": ""
    }
   },
   "outputs": [
    {
     "output_type": "stream",
     "name": "stdout",
     "output_type": "stream",
     "text": [
      "+--------+--------------------+--------+-----------+--------------------+-----+\n|cinsiyet|            comments|kategori|      marka|        product_name|stars|\n+--------+--------------------+--------+-----------+--------------------+-----+\n|   erkek|['Gayet güzel uma...|   sapka|calvinklein|   Calvin KleinŞapka|  4.3|\n|   erkek|['Güzel ürün', 'Ü...|   sapka|calvinklein|Calvin KleinMavi ...|  4.5|\n|   erkek|['Baba beğenmiş !...|   sapka|calvinklein|   Calvin KleinŞapka|  4.5|\n|   erkek|['Eşim için aldım...|   sapka|calvinklein|Calvin KleinCK Lo...|  4.7|\n|   erkek|['Çok beğendim 😊...|   sapka|calvinklein|   Calvin KleinŞapka|  5.0|\n|   erkek|['yanlış ürün yol...|   sapka|calvinklein|Calvin KleinLogol...|  4.2|\n|   erkek|['Kumaşı kalın. Y...|   sapka|calvinklein|Calvin KleinErkek...|  4.3|\n|   erkek|['Gayet güzel uma...|   sapka|calvinklein|   Calvin KleinŞapka|  4.3|\n|   erkek|['Güzel ürün', 'Ü...|   sapka|calvinklein|Calvin KleinMavi ...|  4.5|\n|   erkek|['Baba beğenmiş !...|   sapka|calvinklein|   Calvin KleinŞapka|  4.5|\n|   erkek|['Eşim için aldım...|   sapka|calvinklein|Calvin KleinCK Lo...|  4.7|\n|   erkek|['Çok beğendim 😊...|   sapka|calvinklein|   Calvin KleinŞapka|  5.0|\n|   erkek|['yanlış ürün yol...|   sapka|calvinklein|Calvin KleinLogol...|  4.2|\n|   erkek|['Kumaşı kalın. Y...|   sapka|calvinklein|Calvin KleinErkek...|  4.3|\n|   erkek|['Gayet güzel uma...|   sapka|calvinklein|   Calvin KleinŞapka|  4.3|\n|   erkek|['Güzel ürün', 'Ü...|   sapka|calvinklein|Calvin KleinMavi ...|  4.5|\n|   erkek|['Baba beğenmiş !...|   sapka|calvinklein|   Calvin KleinŞapka|  4.5|\n|   erkek|['Eşim için aldım...|   sapka|calvinklein|Calvin KleinCK Lo...|  4.7|\n|   erkek|['Çok beğendim 😊...|   sapka|calvinklein|   Calvin KleinŞapka|  5.0|\n|   erkek|['yanlış ürün yol...|   sapka|calvinklein|Calvin KleinLogol...|  4.2|\n+--------+--------------------+--------+-----------+--------------------+-----+\nonly showing top 20 rows\n\n"
     ]
    }
   ],
   "source": [
    "df = df.withColumn(\"stars\", regexp_replace(\"stars\", \"'\", \"\"))\n",
    "\n",
    "# Güncellenmiş DataFrame'i gösterme\n",
    "df.show()"
   ]
  },
  {
   "cell_type": "code",
   "execution_count": 0,
   "metadata": {
    "application/vnd.databricks.v1+cell": {
     "cellMetadata": {
      "byteLimit": 2048000,
      "rowLimit": 10000
     },
     "inputWidgets": {},
     "nuid": "7700e906-e23e-4a82-a875-1078912aadc5",
     "showTitle": false,
     "title": ""
    }
   },
   "outputs": [
    {
     "output_type": "stream",
     "name": "stdout",
     "output_type": "stream",
     "text": [
      "+--------+--------------------+--------+-----------+--------------------+-----+\n|cinsiyet|            comments|kategori|      marka|        product_name|stars|\n+--------+--------------------+--------+-----------+--------------------+-----+\n|   erkek|['Gayet güzel uma...|   sapka|calvinklein|   Calvin KleinŞapka|  4.3|\n|   erkek|['Güzel ürün', 'Ü...|   sapka|calvinklein|Calvin KleinMavi ...|  4.5|\n|   erkek|['Baba beğenmiş !...|   sapka|calvinklein|   Calvin KleinŞapka|  4.5|\n|   erkek|['Eşim için aldım...|   sapka|calvinklein|Calvin KleinCK Lo...|  4.7|\n|   erkek|['Çok beğendim 😊...|   sapka|calvinklein|   Calvin KleinŞapka|  5.0|\n|   erkek|['yanlış ürün yol...|   sapka|calvinklein|Calvin KleinLogol...|  4.2|\n|   erkek|['Kumaşı kalın. Y...|   sapka|calvinklein|Calvin KleinErkek...|  4.3|\n|   erkek|['Gayet güzel uma...|   sapka|calvinklein|   Calvin KleinŞapka|  4.3|\n|   erkek|['Güzel ürün', 'Ü...|   sapka|calvinklein|Calvin KleinMavi ...|  4.5|\n|   erkek|['Baba beğenmiş !...|   sapka|calvinklein|   Calvin KleinŞapka|  4.5|\n|   erkek|['Eşim için aldım...|   sapka|calvinklein|Calvin KleinCK Lo...|  4.7|\n|   erkek|['Çok beğendim 😊...|   sapka|calvinklein|   Calvin KleinŞapka|  5.0|\n|   erkek|['yanlış ürün yol...|   sapka|calvinklein|Calvin KleinLogol...|  4.2|\n|   erkek|['Kumaşı kalın. Y...|   sapka|calvinklein|Calvin KleinErkek...|  4.3|\n|   erkek|['Gayet güzel uma...|   sapka|calvinklein|   Calvin KleinŞapka|  4.3|\n|   erkek|['Güzel ürün', 'Ü...|   sapka|calvinklein|Calvin KleinMavi ...|  4.5|\n|   erkek|['Baba beğenmiş !...|   sapka|calvinklein|   Calvin KleinŞapka|  4.5|\n|   erkek|['Eşim için aldım...|   sapka|calvinklein|Calvin KleinCK Lo...|  4.7|\n|   erkek|['Çok beğendim 😊...|   sapka|calvinklein|   Calvin KleinŞapka|  5.0|\n|   erkek|['yanlış ürün yol...|   sapka|calvinklein|Calvin KleinLogol...|  4.2|\n+--------+--------------------+--------+-----------+--------------------+-----+\nonly showing top 20 rows\n\n"
     ]
    }
   ],
   "source": [
    "from pyspark.sql.functions import col\n",
    "\n",
    "# 'stars' sütununu float'a dönüştürme\n",
    "df = df.withColumn(\"stars\", col(\"stars\").cast(\"float\"))\n",
    "\n",
    "# Güncellenmiş DataFrame'i gösterme\n",
    "df.show()"
   ]
  },
  {
   "cell_type": "code",
   "execution_count": 0,
   "metadata": {
    "application/vnd.databricks.v1+cell": {
     "cellMetadata": {
      "byteLimit": 2048000,
      "rowLimit": 10000
     },
     "inputWidgets": {},
     "nuid": "84509f90-9c9e-4da1-80d6-ebd1e229800a",
     "showTitle": false,
     "title": ""
    }
   },
   "outputs": [
    {
     "output_type": "stream",
     "name": "stdout",
     "output_type": "stream",
     "text": [
      "Max stars: 5.0\nMin stars: 0.0\n"
     ]
    }
   ],
   "source": [
    "max_stars = df.select(\"stars\").agg({\"stars\": \"max\"}).collect()[0][0]\n",
    "min_stars = df.select(\"stars\").agg({\"stars\": \"min\"}).collect()[0][0]\n",
    "\n",
    "print(\"Max stars:\", max_stars)\n",
    "print(\"Min stars:\", min_stars)\n",
    "# 0-3 arası negatif yorumlar , 3 nötr yorumlar , 3-5 arası pozitif yorumlar"
   ]
  },
  {
   "cell_type": "code",
   "execution_count": 0,
   "metadata": {
    "application/vnd.databricks.v1+cell": {
     "cellMetadata": {
      "byteLimit": 2048000,
      "rowLimit": 10000
     },
     "inputWidgets": {},
     "nuid": "e4ecff00-f888-4820-8592-c6928a0352ab",
     "showTitle": false,
     "title": ""
    }
   },
   "outputs": [],
   "source": [
    "from pyspark.sql.functions import when\n",
    "df = df.withColumn(\"sentiment\", when(df[\"stars\"] < 3, \"negative\").when(df[\"stars\"] > 3, \"positive\").otherwise(\"neutral\"))\n",
    "# 0-3 arası negatif yorumlar , 3 nötr yorumlar , 3-5 arası pozitif yorumlar şekilde sentiment adı altında yeni değişken oluşturuldu"
   ]
  },
  {
   "cell_type": "code",
   "execution_count": 0,
   "metadata": {
    "application/vnd.databricks.v1+cell": {
     "cellMetadata": {
      "byteLimit": 2048000,
      "rowLimit": 10000
     },
     "inputWidgets": {},
     "nuid": "c06d8020-1b2d-4c53-a852-6959d1458e5e",
     "showTitle": false,
     "title": ""
    }
   },
   "outputs": [
    {
     "output_type": "stream",
     "name": "stdout",
     "output_type": "stream",
     "text": [
      "+--------+--------------------+--------+-----------+--------------------+-----+---------+\n|cinsiyet|            comments|kategori|      marka|        product_name|stars|sentiment|\n+--------+--------------------+--------+-----------+--------------------+-----+---------+\n|   erkek|['Gayet güzel uma...|   sapka|calvinklein|   Calvin KleinŞapka|  4.3| positive|\n|   erkek|['Güzel ürün', 'Ü...|   sapka|calvinklein|Calvin KleinMavi ...|  4.5| positive|\n|   erkek|['Baba beğenmiş !...|   sapka|calvinklein|   Calvin KleinŞapka|  4.5| positive|\n|   erkek|['Eşim için aldım...|   sapka|calvinklein|Calvin KleinCK Lo...|  4.7| positive|\n|   erkek|['Çok beğendim 😊...|   sapka|calvinklein|   Calvin KleinŞapka|  5.0| positive|\n|   erkek|['yanlış ürün yol...|   sapka|calvinklein|Calvin KleinLogol...|  4.2| positive|\n|   erkek|['Kumaşı kalın. Y...|   sapka|calvinklein|Calvin KleinErkek...|  4.3| positive|\n|   erkek|['Gayet güzel uma...|   sapka|calvinklein|   Calvin KleinŞapka|  4.3| positive|\n|   erkek|['Güzel ürün', 'Ü...|   sapka|calvinklein|Calvin KleinMavi ...|  4.5| positive|\n|   erkek|['Baba beğenmiş !...|   sapka|calvinklein|   Calvin KleinŞapka|  4.5| positive|\n|   erkek|['Eşim için aldım...|   sapka|calvinklein|Calvin KleinCK Lo...|  4.7| positive|\n|   erkek|['Çok beğendim 😊...|   sapka|calvinklein|   Calvin KleinŞapka|  5.0| positive|\n|   erkek|['yanlış ürün yol...|   sapka|calvinklein|Calvin KleinLogol...|  4.2| positive|\n|   erkek|['Kumaşı kalın. Y...|   sapka|calvinklein|Calvin KleinErkek...|  4.3| positive|\n|   erkek|['Gayet güzel uma...|   sapka|calvinklein|   Calvin KleinŞapka|  4.3| positive|\n|   erkek|['Güzel ürün', 'Ü...|   sapka|calvinklein|Calvin KleinMavi ...|  4.5| positive|\n|   erkek|['Baba beğenmiş !...|   sapka|calvinklein|   Calvin KleinŞapka|  4.5| positive|\n|   erkek|['Eşim için aldım...|   sapka|calvinklein|Calvin KleinCK Lo...|  4.7| positive|\n|   erkek|['Çok beğendim 😊...|   sapka|calvinklein|   Calvin KleinŞapka|  5.0| positive|\n|   erkek|['yanlış ürün yol...|   sapka|calvinklein|Calvin KleinLogol...|  4.2| positive|\n+--------+--------------------+--------+-----------+--------------------+-----+---------+\nonly showing top 20 rows\n\n"
     ]
    }
   ],
   "source": [
    "df.show()"
   ]
  },
  {
   "cell_type": "code",
   "execution_count": 0,
   "metadata": {
    "application/vnd.databricks.v1+cell": {
     "cellMetadata": {
      "byteLimit": 2048000,
      "rowLimit": 10000
     },
     "inputWidgets": {},
     "nuid": "f5e81701-fdb9-41d1-b88f-803b3a46d956",
     "showTitle": false,
     "title": ""
    }
   },
   "outputs": [
    {
     "output_type": "stream",
     "name": "stdout",
     "output_type": "stream",
     "text": [
      "+--------+--------------------+---------------+----------+--------------------+-----+---------+\n|cinsiyet|            comments|       kategori|     marka|        product_name|stars|sentiment|\n+--------+--------------------+---------------+----------+--------------------+-----+---------+\n|   kadin|['gayet güzel oğl...|    sirtcantasi|    hummel|HUMMEL Siyah Sırt...|  0.0| negative|\n|   kadin|['Güzel beğendim ...|    sirtcantasi|    hummel|HUMMEL Backpack G...|  2.7| negative|\n|   kadin|['İkinci defadır ...|    sirtcantasi|    hummel|HUMMEL Kırmızı Sı...|  2.0| negative|\n|   kadin|['pox kimdi, alma...|    sirtcantasi|lumberjack|Lumberjack Busine...|  2.0| negative|\n|   kadin|['pox kimdi, alma...|    sirtcantasi|lumberjack|Lumberjack Busine...|  2.0| negative|\n|   kadin|['pox kimdi, alma...|    sirtcantasi|lumberjack|Lumberjack Busine...|  2.0| negative|\n|   kadin|['pox kimdi, alma...|    sirtcantasi|lumberjack|Lumberjack Busine...|  2.0| negative|\n|   kadin|['pox kimdi, alma...|    sirtcantasi|lumberjack|Lumberjack Busine...|  2.0| negative|\n|   kadin|['pox kimdi, alma...|    sirtcantasi|lumberjack|Lumberjack Busine...|  2.0| negative|\n|   kadin|['herseyle kullan...|topukluayakkabi|   derimod|Derimod Kadın Top...|  2.6| negative|\n|   kadin|['normalde 38 num...|topukluayakkabi|   derimod|Derimod Kadın Top...|  2.3| negative|\n|   kadin|['şık ve rahat am...|topukluayakkabi|   derimod|Derimod Kadın Der...|  1.5| negative|\n|   kadin|['başkasının ayak...|topukluayakkabi|   derimod|Derimod Kadın Rug...|  1.0| negative|\n|   kadin|['ürünü tekrar ia...|topukluayakkabi|   derimod|Derimod Kadın Rug...|  1.0| negative|\n|   kadin|['Ben bu urunu si...|topukluayakkabi|   derimod|Derimod Kadın Der...|  1.0| negative|\n+--------+--------------------+---------------+----------+--------------------+-----+---------+\n\n"
     ]
    }
   ],
   "source": [
    "\n",
    "df.filter(\n",
    "    (col(\"stars\")<3)\n",
    "    ).show() # kötü yorumlar\n"
   ]
  },
  {
   "cell_type": "code",
   "execution_count": 0,
   "metadata": {
    "application/vnd.databricks.v1+cell": {
     "cellMetadata": {
      "byteLimit": 2048000,
      "rowLimit": 10000
     },
     "inputWidgets": {},
     "nuid": "1d387431-81d6-4f26-9495-ac31e59f4689",
     "showTitle": false,
     "title": ""
    }
   },
   "outputs": [
    {
     "output_type": "stream",
     "name": "stdout",
     "output_type": "stream",
     "text": [
      "+--------+--------------------+-----------+----------+--------------------+-----+---------+\n|cinsiyet|            comments|   kategori|     marka|        product_name|stars|sentiment|\n+--------+--------------------+-----------+----------+--------------------+-----+---------+\n|   kadin|['pox kimdi, alma...|sirtcantasi|lumberjack|Lumberjack Busine...|  2.0| negative|\n|   kadin|['pox kimdi, alma...|sirtcantasi|lumberjack|Lumberjack Busine...|  2.0| negative|\n|   kadin|['pox kimdi, alma...|sirtcantasi|lumberjack|Lumberjack Busine...|  2.0| negative|\n|   kadin|['pox kimdi, alma...|sirtcantasi|lumberjack|Lumberjack Busine...|  2.0| negative|\n|   kadin|['pox kimdi, alma...|sirtcantasi|lumberjack|Lumberjack Busine...|  2.0| negative|\n|   kadin|['pox kimdi, alma...|sirtcantasi|lumberjack|Lumberjack Busine...|  2.0| negative|\n+--------+--------------------+-----------+----------+--------------------+-----+---------+\n\n"
     ]
    }
   ],
   "source": [
    "df.filter(\n",
    "    (col(\"sentiment\") == \"negative\") &\n",
    "    (col(\"marka\")==\"lumberjack\")\n",
    "    ).show()\n",
    "\n",
    "#Lumberjack Markası kötü yorumlar"
   ]
  },
  {
   "cell_type": "code",
   "execution_count": 0,
   "metadata": {
    "application/vnd.databricks.v1+cell": {
     "cellMetadata": {
      "byteLimit": 2048000,
      "rowLimit": 10000
     },
     "inputWidgets": {},
     "nuid": "a5e43f4b-a1ac-4f1e-8fe8-14dc787bd6df",
     "showTitle": false,
     "title": ""
    }
   },
   "outputs": [
    {
     "output_type": "stream",
     "name": "stdout",
     "output_type": "stream",
     "text": [
      "+--------+--------------------+--------+-----------+--------------------+-----+---------+\n|cinsiyet|            comments|kategori|      marka|        product_name|stars|sentiment|\n+--------+--------------------+--------+-----------+--------------------+-----+---------+\n|   erkek|['Arkadaşıma aldı...|   sapka|       puma|   PumaMetal Cat Cap|  4.8| positive|\n|   erkek|['Eşime aldım çok...|   sapka|       puma|PumaEss Running S...|  4.7| positive|\n|   erkek|['kaliteli şık bi...|   sapka|       puma|PumaMetal Cat Cap...|  5.0| positive|\n|   erkek|['Eşim için aldım...|   sapka|calvinklein|Calvin KleinCK Lo...|  4.7| positive|\n|   erkek|['Baba beğenmiş !...|   sapka|calvinklein|   Calvin KleinŞapka|  4.5| positive|\n|   erkek|['Çok beğendim 😊...|   sapka|calvinklein|   Calvin KleinŞapka|  5.0| positive|\n|   erkek|['Güzel, sadece ç...|   sapka|       puma|PumaPembe Unisex ...|  5.0| positive|\n|   erkek|['Güzel ürün', 'Ü...|   sapka|calvinklein|Calvin KleinMavi ...|  4.5| positive|\n|   erkek|['Kumaşı kalın. Y...|   sapka|calvinklein|Calvin KleinErkek...|  4.3| positive|\n|   erkek|['çok güzel beğen...|   sapka|       puma|           PumaŞapka|  4.6| positive|\n|   erkek|['Gayet güzel uma...|   sapka|calvinklein|   Calvin KleinŞapka|  4.3| positive|\n|   erkek|['Babam 70 yaşınd...|   sapka|       puma|PumaArchive Logo ...|  4.6| positive|\n|   erkek|['güzel bir şapka...|   sapka|       puma|PumaMetal Cat Cap...|  4.8| positive|\n|   erkek|['ürün çok şık ve...|   sapka|       puma|PumaLightweight R...|  5.0| positive|\n|   erkek|['çok güzel beğen...|   sapka|       puma|PumaArchive Logo ...|  5.0| positive|\n|   erkek|['siyah rengin al...|   sapka|       puma|PumaUnisex Günlük...|  5.0| positive|\n|   erkek|['yanlış ürün yol...|   sapka|calvinklein|Calvin KleinLogol...|  4.2| positive|\n|   erkek|['Süper çok kalit...|   sapka|       puma|PumaBmw Mms Bb Ca...|  4.7| positive|\n|   erkek|['Çok güzel', 'ga...|   sapka|       puma|PumaSiyah Unisex ...|  5.0| positive|\n|   erkek|['Hızlı kargo Hed...|   sapka|       puma|PumaSiyah Erkek Ç...|  4.5| positive|\n+--------+--------------------+--------+-----------+--------------------+-----+---------+\nonly showing top 20 rows\n\n"
     ]
    }
   ],
   "source": [
    "# Yinelenen satırları kaldırma\n",
    "df = df.dropDuplicates()\n",
    "\n",
    "# Güncellenmiş DataFrame'i gösterme\n",
    "df.show()\n"
   ]
  },
  {
   "cell_type": "code",
   "execution_count": 0,
   "metadata": {
    "application/vnd.databricks.v1+cell": {
     "cellMetadata": {
      "byteLimit": 2048000,
      "rowLimit": 10000
     },
     "inputWidgets": {},
     "nuid": "f3b2cfed-1677-43f6-b8cf-d84a69d2ad99",
     "showTitle": false,
     "title": ""
    }
   },
   "outputs": [
    {
     "output_type": "stream",
     "name": "stdout",
     "output_type": "stream",
     "text": [
      "+--------+--------------------+-----------+----------+--------------------+-----+---------+\n|cinsiyet|            comments|   kategori|     marka|        product_name|stars|sentiment|\n+--------+--------------------+-----------+----------+--------------------+-----+---------+\n|   kadin|['pox kimdi, alma...|sirtcantasi|lumberjack|Lumberjack Busine...|  2.0| negative|\n+--------+--------------------+-----------+----------+--------------------+-----+---------+\n\n"
     ]
    }
   ],
   "source": [
    "df.filter(\n",
    "    (col(\"sentiment\") == \"negative\") &\n",
    "    (col(\"marka\")==\"lumberjack\")\n",
    "    ).show()"
   ]
  },
  {
   "cell_type": "code",
   "execution_count": 0,
   "metadata": {
    "application/vnd.databricks.v1+cell": {
     "cellMetadata": {
      "byteLimit": 2048000,
      "rowLimit": 10000
     },
     "inputWidgets": {},
     "nuid": "bfdaf916-11d9-4145-b38d-acec79125853",
     "showTitle": false,
     "title": ""
    }
   },
   "outputs": [
    {
     "output_type": "stream",
     "name": "stdout",
     "output_type": "stream",
     "text": [
      "+--------------------------------------------------------------------------------------------------------------------------------------------+\n|comments                                                                                                                                    |\n+--------------------------------------------------------------------------------------------------------------------------------------------+\n|['pox kimdi, almağa dəyməz, zamokun içinə sıçıb göndəriblər, ürünüvüzü sikim, zamokda plasmasdan iki günə qırılacağ, pulumu doğun qəhbələr']|\n+--------------------------------------------------------------------------------------------------------------------------------------------+\n\n"
     ]
    }
   ],
   "source": [
    "df.filter(\n",
    "    (col(\"sentiment\") == \"negative\") &\n",
    "    (col(\"marka\")==\"lumberjack\")\n",
    "    ).select(\"comments\").show(truncate=False) #lumberjack markasındaki olumsuz yorum"
   ]
  },
  {
   "cell_type": "code",
   "execution_count": 0,
   "metadata": {
    "application/vnd.databricks.v1+cell": {
     "cellMetadata": {
      "byteLimit": 2048000,
      "rowLimit": 10000
     },
     "inputWidgets": {},
     "nuid": "8811c949-8e81-4d33-8bde-5fde79a76225",
     "showTitle": false,
     "title": ""
    }
   },
   "outputs": [
    {
     "output_type": "stream",
     "name": "stdout",
     "output_type": "stream",
     "text": [
      "+-----------+----------------------+------------------+\n|      marka|Markadaki_Yorum_Sayisi|        stars_rate|\n+-----------+----------------------+------------------+\n|underarmour|                    11| 4.845454562794078|\n|       puma|                    14| 4.814285687037876|\n|    polaris|                    13| 4.761538468874418|\n|      guess|                    12| 4.708333373069763|\n|      mango|                    21|4.6142857528868175|\n| lumberjack|                    18|4.5277778307596845|\n|calvinklein|                     7|               4.5|\n|     adidas|                    22| 4.495454506440596|\n|   ninewest|                   158|  4.48924052262608|\n|     hummel|                   149|4.4543624148272825|\n|       nike|                    20| 4.400000035762787|\n|     reebok|                    24| 4.329166640837987|\n|       inci|                    23| 4.273913072503132|\n|      bambi|                    18| 4.266666637526618|\n|     marjin|                    24| 4.208333323399226|\n|    derimod|                    80| 4.160000002384185|\n+-----------+----------------------+------------------+\n\n"
     ]
    }
   ],
   "source": [
    "from pyspark.sql.functions import desc\n",
    "\n",
    "grouped_df = df.groupBy(\"marka\").agg({\"stars\": \"avg\", \"marka\": \"count\"}) \\\n",
    "    .withColumnRenamed(\"count(marka)\", \"Markadaki_Yorum_Sayisi\") \\\n",
    "    .withColumnRenamed(\"avg(stars)\", \"stars_rate\")\n",
    "\n",
    "sorted_df = grouped_df.orderBy(desc(\"stars_rate\"))\n",
    "\n",
    "sorted_df.show()\n",
    "\n",
    "# Markaların kalitesi aldığı yorumlara göre sıralandı"
   ]
  },
  {
   "cell_type": "code",
   "execution_count": 0,
   "metadata": {
    "application/vnd.databricks.v1+cell": {
     "cellMetadata": {
      "byteLimit": 2048000,
      "rowLimit": 10000
     },
     "inputWidgets": {},
     "nuid": "8571a305-3cd3-4d24-8c39-28211552f29c",
     "showTitle": false,
     "title": ""
    }
   },
   "outputs": [
    {
     "output_type": "stream",
     "name": "stdout",
     "output_type": "stream",
     "text": [
      "+---------------+-------------------------+------------------+\n|       kategori|Kategorideki_Yorum_Sayisi|        stars_rate|\n+---------------+-------------------------+------------------+\n|          sapka|                       32|4.7562499940395355|\n|     kolcantasi|                       47| 4.572340452924688|\n|    sirtcantasi|                      188|  4.46861702330569|\n|   sporayakkabi|                       66| 4.406060594500917|\n|  babetayakkabi|                       55| 4.358181806044145|\n|topukluayakkabi|                      226| 4.353982317764147|\n+---------------+-------------------------+------------------+\n\n"
     ]
    }
   ],
   "source": [
    "from pyspark.sql.functions import desc\n",
    "\n",
    "grouped_df2 = df.groupBy(\"kategori\").agg({\"stars\": \"avg\", \"kategori\": \"count\"}) \\\n",
    "    .withColumnRenamed(\"count(kategori)\", \"Kategorideki_Yorum_Sayisi\") \\\n",
    "    .withColumnRenamed(\"avg(stars)\", \"stars_rate\")\n",
    "\n",
    "sorted_df2 = grouped_df2.orderBy(desc(\"stars_rate\"))\n",
    "\n",
    "sorted_df2.show()\n",
    "\n",
    "# ürün kategorileri aldığı yorumlara göre sıralandı\n"
   ]
  },
  {
   "cell_type": "code",
   "execution_count": 0,
   "metadata": {
    "application/vnd.databricks.v1+cell": {
     "cellMetadata": {
      "byteLimit": 2048000,
      "rowLimit": 10000
     },
     "inputWidgets": {},
     "nuid": "1479e62f-9097-441f-b81d-583ce00740de",
     "showTitle": false,
     "title": ""
    }
   },
   "outputs": [
    {
     "output_type": "stream",
     "name": "stdout",
     "output_type": "stream",
     "text": [
      "+---------------+-----+\n|       kategori|count|\n+---------------+-----+\n|    sirtcantasi|  188|\n|          sapka|   32|\n|     kolcantasi|   47|\n|topukluayakkabi|  226|\n|   sporayakkabi|   66|\n|  babetayakkabi|   55|\n+---------------+-----+\n\n"
     ]
    }
   ],
   "source": [
    "from pyspark.sql.functions import col\n",
    "\n",
    "# data 'marka' sütununa göre gruplandı ve her bir markanın yorum sayısı hesaplandı\n",
    "brand_counts = df.groupBy(\"kategori\").count()\n",
    "\n",
    "brand_counts.show()\n"
   ]
  },
  {
   "cell_type": "code",
   "execution_count": 0,
   "metadata": {
    "application/vnd.databricks.v1+cell": {
     "cellMetadata": {
      "byteLimit": 2048000,
      "rowLimit": 10000
     },
     "inputWidgets": {},
     "nuid": "143f3c0e-854a-48ca-888f-75af2a127864",
     "showTitle": false,
     "title": ""
    }
   },
   "outputs": [
    {
     "output_type": "stream",
     "name": "stdout",
     "output_type": "stream",
     "text": [
      "+----------+------------+\n|     marka|Yorum_Sayisi|\n+----------+------------+\n|lumberjack|          18|\n|   derimod|          21|\n|    hummel|         149|\n+----------+------------+\n\n"
     ]
    }
   ],
   "source": [
    "df.createOrReplaceTempView(\"df\")\n",
    "spark.sql(\"SELECT marka, COUNT(*) AS Yorum_Sayisi FROM df WHERE kategori = 'sirtcantasi' GROUP BY marka\").show()\n"
   ]
  },
  {
   "cell_type": "code",
   "execution_count": 0,
   "metadata": {
    "application/vnd.databricks.v1+cell": {
     "cellMetadata": {
      "byteLimit": 2048000,
      "rowLimit": 10000
     },
     "inputWidgets": {},
     "nuid": "e655e19c-1c3b-4cb7-aa9d-c1bdf9c77512",
     "showTitle": false,
     "title": ""
    }
   },
   "outputs": [
    {
     "output_type": "stream",
     "name": "stdout",
     "output_type": "stream",
     "text": [
      "+----------+------------+------------------+\n|     marka|Yorum_Sayisi|        stars_rate|\n+----------+------------+------------------+\n|lumberjack|          18|4.5277778307596845|\n|   derimod|          21| 4.519047600882394|\n|    hummel|         149|4.4543624148272825|\n+----------+------------+------------------+\n\n"
     ]
    }
   ],
   "source": [
    "spark.sql(\"\"\"\n",
    "    SELECT marka, COUNT(*) AS Yorum_Sayisi, AVG(stars) AS stars_rate\n",
    "    FROM df\n",
    "    WHERE kategori = 'sirtcantasi'\n",
    "    GROUP BY marka\n",
    "    ORDER BY AVG(stars) DESC\n",
    "\"\"\").show() # sirtcantasi markaları yildiz(memnuniyet) oranlari"
   ]
  },
  {
   "cell_type": "code",
   "execution_count": 0,
   "metadata": {
    "application/vnd.databricks.v1+cell": {
     "cellMetadata": {
      "byteLimit": 2048000,
      "rowLimit": 10000
     },
     "inputWidgets": {},
     "nuid": "bb6419f6-03b4-4636-807b-8b0fc25028d6",
     "showTitle": false,
     "title": ""
    }
   },
   "outputs": [
    {
     "output_type": "stream",
     "name": "stdout",
     "output_type": "stream",
     "text": [
      "+--------+------------+------------------+\n|   marka|Yorum_Sayisi|        stars_rate|\n+--------+------------+------------------+\n|   guess|          12| 4.708333373069763|\n|   mango|          21|4.6142857528868175|\n|ninewest|          14| 4.392857142857143|\n+--------+------------+------------------+\n\n"
     ]
    }
   ],
   "source": [
    "spark.sql(\"select marka, count(*) as Yorum_Sayisi, AVG(stars) as stars_rate\\\n",
    "    FROM df where kategori = 'kolcantasi' group by marka order by avg(stars) desc\").show() #kolcantasi markalari yildiz(memnuniyet) oranlari"
   ]
  },
  {
   "cell_type": "code",
   "execution_count": 0,
   "metadata": {
    "application/vnd.databricks.v1+cell": {
     "cellMetadata": {
      "byteLimit": 2048000,
      "rowLimit": 10000
     },
     "inputWidgets": {},
     "nuid": "35c89d0a-6748-4eaf-b957-04f037d115dc",
     "showTitle": false,
     "title": ""
    }
   },
   "outputs": [
    {
     "output_type": "stream",
     "name": "stdout",
     "output_type": "stream",
     "text": [
      "+--------+------------+-----------------+\n|   marka|Yorum_Sayisi|       stars_rate|\n+--------+------------+-----------------+\n|ninewest|         144|4.498611128992504|\n|    inci|          23|4.273913072503132|\n| derimod|          59|4.032203399528892|\n+--------+------------+-----------------+\n\n"
     ]
    }
   ],
   "source": [
    "spark.sql(\"select marka, count(*) as Yorum_Sayisi, AVG(stars) as stars_rate\\\n",
    "    FROM df where kategori = 'topukluayakkabi' group by marka order by avg(stars) desc\").show() #topukluayakkabi markalari yildiz(memnuniyet) oranlari"
   ]
  },
  {
   "cell_type": "code",
   "execution_count": 0,
   "metadata": {
    "application/vnd.databricks.v1+cell": {
     "cellMetadata": {
      "byteLimit": 2048000,
      "rowLimit": 10000
     },
     "inputWidgets": {},
     "nuid": "77fecf83-7425-4435-bee5-ba564e37ad35",
     "showTitle": false,
     "title": ""
    }
   },
   "outputs": [
    {
     "output_type": "stream",
     "name": "stdout",
     "output_type": "stream",
     "text": [
      "+-------+------------+-----------------+\n|  marka|Yorum_Sayisi|       stars_rate|\n+-------+------------+-----------------+\n|polaris|          13|4.761538468874418|\n|  bambi|          18|4.266666637526618|\n| marjin|          24|4.208333323399226|\n+-------+------------+-----------------+\n\n"
     ]
    }
   ],
   "source": [
    "spark.sql(\"select marka, count(*) as Yorum_Sayisi, AVG(stars) as stars_rate\\\n",
    "    FROM df where kategori = 'babetayakkabi' group by marka order by avg(stars) desc\").show() #babetayakkabi markalari yildiz(memnuniyet) oranlari"
   ]
  },
  {
   "cell_type": "code",
   "execution_count": 0,
   "metadata": {
    "application/vnd.databricks.v1+cell": {
     "cellMetadata": {
      "byteLimit": 2048000,
      "rowLimit": 10000
     },
     "inputWidgets": {},
     "nuid": "5960cae5-0210-4cd5-80ab-00ef97bff34d",
     "showTitle": false,
     "title": ""
    }
   },
   "outputs": [
    {
     "output_type": "stream",
     "name": "stdout",
     "output_type": "stream",
     "text": [
      "+------+------------+-----------------+\n| marka|Yorum_Sayisi|       stars_rate|\n+------+------------+-----------------+\n|adidas|          22|4.495454506440596|\n|  nike|          20|4.400000035762787|\n|reebok|          24|4.329166640837987|\n+------+------------+-----------------+\n\n"
     ]
    }
   ],
   "source": [
    "spark.sql(\"select marka, count(*) as Yorum_Sayisi, AVG(stars) as stars_rate\\\n",
    "    FROM df where kategori = 'sporayakkabi' group by marka order by avg(stars) desc\").show() #sporayakkabi markalari yildiz(memnuniyet) oranlari"
   ]
  },
  {
   "cell_type": "code",
   "execution_count": 0,
   "metadata": {
    "application/vnd.databricks.v1+cell": {
     "cellMetadata": {
      "byteLimit": 2048000,
      "rowLimit": 10000
     },
     "inputWidgets": {},
     "nuid": "e7b0c4d4-1ee8-4c9a-995e-2bdab8df4661",
     "showTitle": false,
     "title": ""
    }
   },
   "outputs": [
    {
     "output_type": "stream",
     "name": "stdout",
     "output_type": "stream",
     "text": [
      "+-----------+------------+-----------------+\n|      marka|Yorum_Sayisi|       stars_rate|\n+-----------+------------+-----------------+\n|underarmour|          11|4.845454562794078|\n|       puma|          14|4.814285687037876|\n|calvinklein|           7|              4.5|\n+-----------+------------+-----------------+\n\n"
     ]
    }
   ],
   "source": [
    "spark.sql(\"select marka, count(*) as Yorum_Sayisi, AVG(stars) as stars_rate\\\n",
    "    FROM df where kategori = 'sapka' group by marka order by avg(stars) desc\").show() #sapka markalari yildiz(memnuniyet) oranlari"
   ]
  },
  {
   "cell_type": "code",
   "execution_count": 0,
   "metadata": {
    "application/vnd.databricks.v1+cell": {
     "cellMetadata": {
      "byteLimit": 2048000,
      "rowLimit": 10000
     },
     "inputWidgets": {},
     "nuid": "f5b12778-8b69-46e3-847f-a47ecdb794e4",
     "showTitle": false,
     "title": ""
    }
   },
   "outputs": [
    {
     "output_type": "stream",
     "name": "stdout",
     "output_type": "stream",
     "text": [
      "Verideki Toplam satır sayısı: 614\nVerideki Toplam sütun sayısı: 7\n"
     ]
    }
   ],
   "source": [
    "total_rows = df.count()\n",
    "total_columns = len(df.columns)\n",
    "\n",
    "print(\"Verideki Toplam satır sayısı:\", total_rows)\n",
    "print(\"Verideki Toplam sütun sayısı:\", total_columns)"
   ]
  },
  {
   "cell_type": "code",
   "execution_count": 0,
   "metadata": {
    "application/vnd.databricks.v1+cell": {
     "cellMetadata": {
      "byteLimit": 2048000,
      "rowLimit": 10000
     },
     "inputWidgets": {},
     "nuid": "17c8d248-a63f-4971-909d-f0f25f3dff94",
     "showTitle": false,
     "title": ""
    }
   },
   "outputs": [],
   "source": [
    "df.write.format(\"jdbc\")\\\n",
    "    .option(\"url\", \"jdbc:postgresql://34.122.87.14:5432/postgres\") \\\n",
    "    .option(\"driver\", \"org.postgresql.Driver\").option(\"dbtable\", \"ecommerce_comments\") \\\n",
    "    .option(\"user\", \"postgres\").option(\"password\", \"Lemtasiq7.\") \\\n",
    "    .mode(\"append\").save()"
   ]
  },
  {
   "cell_type": "code",
   "execution_count": 0,
   "metadata": {
    "application/vnd.databricks.v1+cell": {
     "cellMetadata": {},
     "inputWidgets": {},
     "nuid": "84eaf913-c474-4b3c-baec-a3aa2e226163",
     "showTitle": false,
     "title": ""
    }
   },
   "outputs": [],
   "source": []
  },
  {
   "cell_type": "code",
   "execution_count": 0,
   "metadata": {
    "application/vnd.databricks.v1+cell": {
     "cellMetadata": {
      "byteLimit": 2048000,
      "rowLimit": 10000
     },
     "inputWidgets": {},
     "nuid": "f31bfbe8-a285-4e94-957d-25195a214459",
     "showTitle": false,
     "title": ""
    }
   },
   "outputs": [],
   "source": []
  },
  {
   "cell_type": "code",
   "execution_count": 0,
   "metadata": {
    "application/vnd.databricks.v1+cell": {
     "cellMetadata": {
      "byteLimit": 2048000,
      "rowLimit": 10000
     },
     "inputWidgets": {},
     "nuid": "2e91e6fb-2e6b-4553-b031-6af064fbf1c6",
     "showTitle": false,
     "title": ""
    }
   },
   "outputs": [],
   "source": []
  },
  {
   "cell_type": "code",
   "execution_count": 0,
   "metadata": {
    "application/vnd.databricks.v1+cell": {
     "cellMetadata": {
      "byteLimit": 2048000,
      "rowLimit": 10000
     },
     "inputWidgets": {},
     "nuid": "c27797c1-463b-45ce-866e-2ae9ffb91c74",
     "showTitle": false,
     "title": ""
    }
   },
   "outputs": [],
   "source": []
  },
  {
   "cell_type": "code",
   "execution_count": 0,
   "metadata": {
    "application/vnd.databricks.v1+cell": {
     "cellMetadata": {
      "byteLimit": 2048000,
      "rowLimit": 10000
     },
     "inputWidgets": {},
     "nuid": "9e1eecc4-7504-44e4-8391-a292d22805a8",
     "showTitle": false,
     "title": ""
    }
   },
   "outputs": [],
   "source": []
  },
  {
   "cell_type": "code",
   "execution_count": 0,
   "metadata": {
    "application/vnd.databricks.v1+cell": {
     "cellMetadata": {
      "byteLimit": 2048000,
      "rowLimit": 10000
     },
     "inputWidgets": {},
     "nuid": "28122cec-07cc-493b-8c0c-1e34927959fa",
     "showTitle": false,
     "title": ""
    }
   },
   "outputs": [],
   "source": []
  }
 ],
 "metadata": {
  "application/vnd.databricks.v1+notebook": {
   "dashboards": [],
   "language": "python",
   "notebookMetadata": {
    "pythonIndentUnit": 4
   },
   "notebookName": "Spark_BerkeSevim",
   "widgets": {}
  }
 },
 "nbformat": 4,
 "nbformat_minor": 0
}
